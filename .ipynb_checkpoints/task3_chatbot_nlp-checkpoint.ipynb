{
 "cells": [
  {
   "cell_type": "code",
   "execution_count": 1,
   "id": "4b698137-2689-47e8-aba7-f07c7801e705",
   "metadata": {},
   "outputs": [
    {
     "name": "stderr",
     "output_type": "stream",
     "text": [
      "[nltk_data] Downloading package punkt to\n",
      "[nltk_data]     C:\\Users\\INDURTHI\\AppData\\Roaming\\nltk_data...\n",
      "[nltk_data]   Package punkt is already up-to-date!\n",
      "[nltk_data] Downloading package stopwords to\n",
      "[nltk_data]     C:\\Users\\INDURTHI\\AppData\\Roaming\\nltk_data...\n",
      "[nltk_data]   Package stopwords is already up-to-date!\n"
     ]
    },
    {
     "data": {
      "text/plain": [
       "True"
      ]
     },
     "execution_count": 1,
     "metadata": {},
     "output_type": "execute_result"
    }
   ],
   "source": [
    "import nltk\n",
    "from nltk.tokenize import word_tokenize\n",
    "from nltk.corpus import stopwords\n",
    "import random\n",
    "\n",
    "nltk.download('punkt')\n",
    "nltk.download('stopwords')\n"
   ]
  },
  {
   "cell_type": "code",
   "execution_count": 2,
   "id": "6893c64a-1694-41ff-933c-99832ae9e849",
   "metadata": {},
   "outputs": [],
   "source": [
    "responses = {\n",
    "    \"greeting\": [\"Hello!\", \"Hi there!\", \"Hey!\", \"Hi! How can I help you?\"],\n",
    "    \"goodbye\": [\"Bye!\", \"See you later!\", \"Goodbye!\"],\n",
    "    \"thanks\": [\"You're welcome!\", \"No problem!\", \"Glad to help!\"],\n",
    "    \"default\": [\"Sorry, I didn't understand that.\"]\n",
    "}\n"
   ]
  },
  {
   "cell_type": "code",
   "execution_count": 3,
   "id": "176825d4-dcc9-4d0e-8c79-afcba7718ca0",
   "metadata": {},
   "outputs": [],
   "source": [
    "def get_intent(user_input):\n",
    "    tokens = word_tokenize(user_input.lower())\n",
    "    if any(word in tokens for word in [\"hello\", \"hi\", \"hey\"]):\n",
    "        return \"greeting\"\n",
    "    elif any(word in tokens for word in [\"bye\", \"goodbye\", \"see you\"]):\n",
    "        return \"goodbye\"\n",
    "    elif any(word in tokens for word in [\"thanks\", \"thank you\"]):\n",
    "        return \"thanks\"\n",
    "    else:\n",
    "        return \"default\"\n"
   ]
  },
  {
   "cell_type": "code",
   "execution_count": 4,
   "id": "b94ec418-5a82-416f-b155-8ec7c9e6b83d",
   "metadata": {},
   "outputs": [],
   "source": [
    "def chatbot():\n",
    "    print(\"🤖 Chatbot: Hello! Type 'exit' to end the chat.\\n\")\n",
    "    while True:\n",
    "        user_input = input(\"You: \")\n",
    "        if user_input.lower() == \"exit\":\n",
    "            print(\"🤖 Chatbot: Goodbye!\")\n",
    "            break\n",
    "        intent = get_intent(user_input)\n",
    "        reply = random.choice(responses[intent])\n",
    "        print(f\"🤖 Chatbot: {reply}\\n\")\n"
   ]
  },
  {
   "cell_type": "code",
   "execution_count": 5,
   "id": "cfc5a631-f5f9-4a4f-a795-76d05b878492",
   "metadata": {},
   "outputs": [
    {
     "name": "stdout",
     "output_type": "stream",
     "text": [
      "🤖 Chatbot: Hello! Type 'exit' to end the chat.\n",
      "\n"
     ]
    },
    {
     "name": "stdin",
     "output_type": "stream",
     "text": [
      "You:  hello\n"
     ]
    },
    {
     "name": "stdout",
     "output_type": "stream",
     "text": [
      "🤖 Chatbot: Hi! How can I help you?\n",
      "\n"
     ]
    },
    {
     "name": "stdin",
     "output_type": "stream",
     "text": [
      "You:  hi\n"
     ]
    },
    {
     "name": "stdout",
     "output_type": "stream",
     "text": [
      "🤖 Chatbot: Hi! How can I help you?\n",
      "\n"
     ]
    },
    {
     "name": "stdin",
     "output_type": "stream",
     "text": [
      "You:  thanks\n"
     ]
    },
    {
     "name": "stdout",
     "output_type": "stream",
     "text": [
      "🤖 Chatbot: Glad to help!\n",
      "\n"
     ]
    },
    {
     "name": "stdin",
     "output_type": "stream",
     "text": [
      "You:  bye\n"
     ]
    },
    {
     "name": "stdout",
     "output_type": "stream",
     "text": [
      "🤖 Chatbot: Bye!\n",
      "\n"
     ]
    },
    {
     "name": "stdin",
     "output_type": "stream",
     "text": [
      "You:  exit\n"
     ]
    },
    {
     "name": "stdout",
     "output_type": "stream",
     "text": [
      "🤖 Chatbot: Goodbye!\n"
     ]
    }
   ],
   "source": [
    "chatbot()\n"
   ]
  },
  {
   "cell_type": "code",
   "execution_count": null,
   "id": "94551822-cfee-4659-b50f-675804ab98d5",
   "metadata": {},
   "outputs": [],
   "source": []
  }
 ],
 "metadata": {
  "kernelspec": {
   "display_name": "Python 3 (ipykernel)",
   "language": "python",
   "name": "python3"
  },
  "language_info": {
   "codemirror_mode": {
    "name": "ipython",
    "version": 3
   },
   "file_extension": ".py",
   "mimetype": "text/x-python",
   "name": "python",
   "nbconvert_exporter": "python",
   "pygments_lexer": "ipython3",
   "version": "3.12.7"
  }
 },
 "nbformat": 4,
 "nbformat_minor": 5
}
